{
 "cells": [
  {
   "cell_type": "code",
   "execution_count": 2,
   "metadata": {},
   "outputs": [
    {
     "name": "stdin",
     "output_type": "stream",
     "text": [
      "What is your name? maix\n",
      "choose a vowel in your name, if you don't have one, try using your last name a\n"
     ]
    },
    {
     "name": "stdout",
     "output_type": "stream",
     "text": [
      "New name with chosen vowel removed:  m ix\n",
      "There are/is 1 vowel(s) in your new name\n"
     ]
    }
   ],
   "source": [
    "name = input(\"What is your name?\")\n",
    "letter = input(\"choose a vowel in your name, if you don't have one, try using your last name\")\n",
    "name2 = name.replace(letter, \" \")\n",
    "count = 0\n",
    "print(\"New name with chosen vowel removed: \", name2)\n",
    "for char in name2:\n",
    "   if char in \"aeiouAEIOU\":\n",
    "    count = count+1\n",
    "print(\"There are/is\", count, \"vowel(s) in your new name\")"
   ]
  },
  {
   "cell_type": "code",
   "execution_count": null,
   "metadata": {},
   "outputs": [],
   "source": []
  }
 ],
 "metadata": {
  "kernelspec": {
   "display_name": "Python 3",
   "language": "python",
   "name": "python3"
  },
  "language_info": {
   "codemirror_mode": {
    "name": "ipython",
    "version": 3
   },
   "file_extension": ".py",
   "mimetype": "text/x-python",
   "name": "python",
   "nbconvert_exporter": "python",
   "pygments_lexer": "ipython3",
   "version": "3.8.3"
  }
 },
 "nbformat": 4,
 "nbformat_minor": 4
}
